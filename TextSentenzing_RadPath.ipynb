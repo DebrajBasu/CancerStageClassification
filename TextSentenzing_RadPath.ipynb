{
 "cells": [
  {
   "cell_type": "code",
   "execution_count": 1,
   "metadata": {},
   "outputs": [
    {
     "name": "stderr",
     "output_type": "stream",
     "text": [
      "/home/dbasu/.local/share/virtualenvs/debraj_notebook-uSskSi2b/lib/python3.6/site-packages/ipykernel_launcher.py:32: SettingWithCopyWarning: \n",
      "A value is trying to be set on a copy of a slice from a DataFrame.\n",
      "Try using .loc[row_indexer,col_indexer] = value instead\n",
      "\n",
      "See the caveats in the documentation: https://pandas.pydata.org/pandas-docs/stable/user_guide/indexing.html#returning-a-view-versus-a-copy\n"
     ]
    }
   ],
   "source": [
    "# sample scripts\n",
    "import pandas as pd\n",
    "import os\n",
    "import spacy\n",
    "from spacy import displacy\n",
    "import ast\n",
    "data_dir = os.getcwd()\n",
    "import nltk\n",
    "from nltk.tokenize import sent_tokenize\n",
    "import numpy as np\n",
    "import matplotlib.pyplot as plt\n",
    "#print(data_dir)\n",
    "cohort_df = pd.read_csv(data_dir + '/data/chrtDf.csv')\n",
    "Pnotes_df = pd.read_pickle('Pnotesfile.pickle')\n",
    "RadPath_df = pd.read_pickle('RadPathfile.pickle')\n",
    "SurgPath_df = pd.read_pickle('SurgPathfile.pickle')\n",
    "cohort_df.rename(columns =  {'tnm_mixed_stage_desc' : 'levels'},inplace= True)\n",
    "cohort_df = cohort_df.loc[cohort_df['pat_id']!='NOPE']\n",
    "pat_count = cohort_df.groupby('pat_id').size().sort_values(ascending=False)\n",
    "# single record seperation\n",
    "patsWithOne = pat_count.loc[pat_count == 1]\n",
    "chrtDfOne = cohort_df.loc[cohort_df['pat_id'].isin(list(patsWithOne.index))].reset_index()\n",
    "#Remove records with no labels or missing labels\n",
    "\n",
    "chrtDf = chrtDfOne[chrtDfOne.levels != 'Unknown']\n",
    "chrtDf = chrtDfOne[chrtDfOne.levels != 'Missing']\n",
    "chrtDf = chrtDfOne[chrtDfOne.levels != 'Not Applicable']\n",
    "chrtDf = chrtDfOne[chrtDfOne['gender'].notnull()]\n",
    "chrtDf = chrtDfOne[chrtDfOne['bmi'].notnull()]\n",
    "\n",
    "#stripping the subclass of cancer staging data; eg. 1A to 1\n",
    "chrtDf['levels'] = chrtDf['levels'].apply(lambda x: x[0])\n",
    "#print(text)\n",
    "nlp = spacy.load(\"en_core_web_sm\")"
   ]
  },
  {
   "cell_type": "markdown",
   "metadata": {},
   "source": [
    "### Remove rows that have no text or '[ ]'"
   ]
  },
  {
   "cell_type": "code",
   "execution_count": 6,
   "metadata": {},
   "outputs": [
    {
     "data": {
      "text/plain": [
       "(14904, 28)"
      ]
     },
     "execution_count": 6,
     "metadata": {},
     "output_type": "execute_result"
    }
   ],
   "source": [
    "RadPath_df.dropna(subset=['note_text'], inplace =True)\n",
    "RadPath_df = RadPath_df[RadPath_df['nlp_text_qu_ner']!='[]']\n",
    "RadPath_df.reset_index(inplace = True)\n",
    "RadPath_df.shape\n",
    "RadPath_df.reset_index(drop = True)\n",
    "RadPath_df.shape"
   ]
  },
  {
   "cell_type": "markdown",
   "metadata": {},
   "source": [
    "### Using NLTK sentence tokenizer to find out average number of sentences in each note"
   ]
  },
  {
   "cell_type": "code",
   "execution_count": 9,
   "metadata": {},
   "outputs": [
    {
     "data": {
      "text/plain": [
       "17.005233494363928"
      ]
     },
     "execution_count": 9,
     "metadata": {},
     "output_type": "execute_result"
    }
   ],
   "source": [
    "RadSenLen =[]\n",
    "for i in RadPath_df.index:\n",
    "    text =RadPath_df.loc[i]['note_text']\n",
    "    doc = sent_tokenize(text)\n",
    "    RadSenLen.append(len(doc))\n",
    "# for i, token in enumerate(doc):\n",
    "#     print('-->Sentence %d: %s' % (i, token))\n",
    "np.mean(np.array(RadSenLen))"
   ]
  },
  {
   "cell_type": "markdown",
   "metadata": {},
   "source": [
    "## Add new columns to RadPath data frame\n",
    "### Columns: number of sentences in the text, longest and shortest and average number of words in each sentence in the text"
   ]
  },
  {
   "cell_type": "code",
   "execution_count": 10,
   "metadata": {},
   "outputs": [],
   "source": [
    "RadPath_df =RadPath_df.assign(**{'Number of sentences': np.nan, 'Longest sentence length (words)': np.nan, \\\n",
    "                                 'Shortest sentence length(words)': np.nan, \\\n",
    "                    'average sentence length(words)':np.nan})\n",
    "# RadPath_df.assign(Number_of_sentences = np.nan, Longest_sentence_length = np.nan, Shortest_sentence_length = np.nan, \\\n",
    "#                    Average_sentence_length= np.nan)"
   ]
  },
  {
   "cell_type": "markdown",
   "metadata": {},
   "source": [
    "### Add all the sentence lengths in the radpath text notes"
   ]
  },
  {
   "cell_type": "code",
   "execution_count": 11,
   "metadata": {},
   "outputs": [],
   "source": [
    "def Number_sentence(text):\n",
    "    return len(sent_tokenize(text))\n",
    "\n",
    "RadPath_df['Number of sentences'] = RadPath_df['note_text'].apply(Number_sentence)\n"
   ]
  },
  {
   "cell_type": "markdown",
   "metadata": {},
   "source": [
    "### Add statistics for each note text"
   ]
  },
  {
   "cell_type": "code",
   "execution_count": 12,
   "metadata": {},
   "outputs": [],
   "source": [
    "from nltk.tokenize import sent_tokenize, word_tokenize\n",
    "from statistics import mean\n",
    "def word_count(doc):\n",
    "    lenWordHolder =[]\n",
    "    for i, token in enumerate(doc):\n",
    "        \n",
    "        lenWordHolder.append(len(word_tokenize(token)))\n",
    "    return lenWordHolder\n",
    "    \n",
    "def max_length(text):\n",
    "    doc = sent_tokenize(text)\n",
    "    len_word = word_count(doc)\n",
    "    #print(max(len_word))\n",
    "    return max(len_word)\n",
    "\n",
    "def min_length(text):\n",
    "    doc = sent_tokenize(text)\n",
    "    len_word = word_count(doc)\n",
    "#     print(min(len_word))\n",
    "#     print('\\n')\n",
    "#     print(doc)\n",
    "    return min(len_word)\n",
    "    \n",
    "def avg_length(text):\n",
    "    doc = sent_tokenize(text)\n",
    "    len_word = word_count(doc)\n",
    "    return mean(len_word)\n",
    "        \n",
    "RadPath_df['Longest sentence length (words)'] = RadPath_df['note_text'].apply(max_length)\n",
    "RadPath_df['Shortest sentence length(words)'] = RadPath_df['note_text'].apply(min_length)\n",
    "RadPath_df['average sentence length(words)'] = RadPath_df['note_text'].apply(avg_length)\n",
    "\n"
   ]
  },
  {
   "cell_type": "code",
   "execution_count": 13,
   "metadata": {},
   "outputs": [
    {
     "data": {
      "text/plain": [
       "(12598,)"
      ]
     },
     "execution_count": 13,
     "metadata": {},
     "output_type": "execute_result"
    }
   ],
   "source": [
    "RadPath_df['note_text'].unique().shape"
   ]
  },
  {
   "cell_type": "code",
   "execution_count": 15,
   "metadata": {},
   "outputs": [],
   "source": [
    "RadPath_analysis = RadPath_df[['pat_id','result_time','note_text', 'Number of sentences','Longest sentence length (words)',\\\n",
    "                               'Shortest sentence length(words)', 'average sentence length(words)', 'nlp_text_qu_ner' ]]"
   ]
  },
  {
   "cell_type": "markdown",
   "metadata": {},
   "source": [
    "### Histogram plot"
   ]
  },
  {
   "cell_type": "code",
   "execution_count": null,
   "metadata": {},
   "outputs": [],
   "source": [
    "# RadPath_analysis.hist(column= 'Number of sentences',bins= 50, grid=True, figsize=(12,8), color='red', zorder=2, rwidth=0.9 )\n",
    "#RadPath_analysis['Number of sentences'].hist(bins =50)\n",
    "RadPath_analysis['Number of sentences'].value_counts(normalize=True)"
   ]
  },
  {
   "cell_type": "markdown",
   "metadata": {},
   "source": [
    "### Around 16% of the note texts have only one sentence. We will examine how important are these one-sentence notes for cancer-related information extraction (e.g. stage, grade, anatomical site)"
   ]
  },
  {
   "cell_type": "code",
   "execution_count": 17,
   "metadata": {},
   "outputs": [
    {
     "data": {
      "image/png": "[encoded data removed]",
      "text/plain": [
       "<Figure size 432x288 with 1 Axes>"
      ]
     },
     "metadata": {
      "needs_background": "light"
     },
     "output_type": "display_data"
    }
   ],
   "source": [
    "import numpy as np\n",
    "import pandas as pd\n",
    "import seaborn as sns\n",
    "import matplotlib.pyplot as plt\n",
    "from scipy import stats\n",
    "sns.distplot(RadPath_analysis['Number of sentences'], hist=True, kde=False, \n",
    "             color = 'blue',\n",
    "             hist_kws={'edgecolor':'black'});"
   ]
  },
  {
   "cell_type": "markdown",
   "metadata": {},
   "source": []
  },
  {
   "cell_type": "markdown",
   "metadata": {},
   "source": [
    "### Converting the note_texts to lower case"
   ]
  },
  {
   "cell_type": "code",
   "execution_count": 18,
   "metadata": {},
   "outputs": [
    {
     "name": "stderr",
     "output_type": "stream",
     "text": [
      "/home/dbasu/.local/share/virtualenvs/debraj_notebook-uSskSi2b/lib/python3.6/site-packages/ipykernel_launcher.py:1: SettingWithCopyWarning: \n",
      "A value is trying to be set on a copy of a slice from a DataFrame.\n",
      "Try using .loc[row_indexer,col_indexer] = value instead\n",
      "\n",
      "See the caveats in the documentation: https://pandas.pydata.org/pandas-docs/stable/user_guide/indexing.html#returning-a-view-versus-a-copy\n",
      "  \"\"\"Entry point for launching an IPython kernel.\n"
     ]
    }
   ],
   "source": [
    "RadPath_analysis['note_text'] = RadPath_analysis['note_text'].apply(lambda x: x.lower())"
   ]
  },
  {
   "cell_type": "markdown",
   "metadata": {},
   "source": [
    "### Size of the record with one sentence : 2413"
   ]
  },
  {
   "cell_type": "code",
   "execution_count": 19,
   "metadata": {},
   "outputs": [
    {
     "data": {
      "text/plain": [
       "(2413, 8)"
      ]
     },
     "execution_count": 19,
     "metadata": {},
     "output_type": "execute_result"
    }
   ],
   "source": [
    "RadPath_analysis[RadPath_analysis['Number of sentences'] ==1].shape"
   ]
  },
  {
   "cell_type": "markdown",
   "metadata": {},
   "source": [
    "### Unique number of records with size of text equal to one sentence: 746\n",
    "### Approximately one third are repeated and therefore a high chance that they may not useful (hypothesis)\n",
    "### We save these unique texts in a text file and will request domain expert intervention to evaluate the importance of those texts."
   ]
  },
  {
   "cell_type": "code",
   "execution_count": 20,
   "metadata": {},
   "outputs": [],
   "source": [
    "A = RadPath_analysis[RadPath_analysis['Number of sentences'] ==1]['note_text'].unique()"
   ]
  },
  {
   "cell_type": "code",
   "execution_count": 18,
   "metadata": {},
   "outputs": [],
   "source": [
    "np.savetxt('RadPath_notes.txt', A, fmt='%s', delimiter=',', newline=\"\\n------------------------------------------------------------\\n\")"
   ]
  },
  {
   "cell_type": "markdown",
   "metadata": {},
   "source": [
    "### Check with QUICKUMLS output for any useful concept from these notes containing only one sentence"
   ]
  },
  {
   "cell_type": "code",
   "execution_count": 22,
   "metadata": {},
   "outputs": [],
   "source": [
    "RadPath_analysis_singleSent = RadPath_analysis[RadPath_analysis['Number of sentences'] ==1]\n",
    "RadPath_analysis_singleSent =RadPath_analysis_singleSent.assign(**{'T023 output': np.nan, 'T191 output': np.nan})\n",
    "RadPath_analysis_singleSent.reset_index(inplace= True)\n"
   ]
  },
  {
   "cell_type": "markdown",
   "metadata": {},
   "source": [
    "### To check if concept extraction is useful from semstring "
   ]
  },
  {
   "cell_type": "code",
   "execution_count": 23,
   "metadata": {},
   "outputs": [],
   "source": [
    "corpus_T023_total = []\n",
    "corpus_T191_total = []\n",
    "for i in range(len(RadPath_analysis_singleSent.index)):\n",
    "    \n",
    "    text = RadPath_analysis_singleSent.iloc[i].nlp_text_qu_ner\n",
    "    d = ast.literal_eval(text)\n",
    "    Testframe = pd.DataFrame.from_dict(d)\n",
    "    corpus_T023 = Testframe[Testframe['semtypestring'] == 'T023']['ngram'].tolist()\n",
    "    corpus_T191 = Testframe[Testframe['semtypestring'] == 'T191']['ngram'].tolist()\n",
    "    corpus_T023_total.append(corpus_T023)\n",
    "    corpus_T191_total.append(corpus_T191)\n",
    "    \n",
    "    "
   ]
  },
  {
   "cell_type": "markdown",
   "metadata": {},
   "source": [
    "### Most of the outputs are empty\n",
    "### 94% for T023\n",
    "### 91% for T191"
   ]
  },
  {
   "cell_type": "code",
   "execution_count": 24,
   "metadata": {},
   "outputs": [
    {
     "data": {
      "text/plain": [
       "91.42146705346043"
      ]
     },
     "execution_count": 24,
     "metadata": {},
     "output_type": "execute_result"
    }
   ],
   "source": [
    "corpus_T023_total\n",
    "T023 = [e for e in corpus_T023_total if e]\n",
    "100*(1- (len(T023)/len(corpus_T023_total)))\n",
    "\n",
    "T191 = [e for e in corpus_T191_total if e]\n",
    "100*(1- (len(T191)/len(corpus_T191_total)))"
   ]
  },
  {
   "cell_type": "code",
   "execution_count": null,
   "metadata": {},
   "outputs": [],
   "source": [
    "RadPath_analysis_singleSent"
   ]
  },
  {
   "cell_type": "markdown",
   "metadata": {},
   "source": [
    "### Size of records with 2 sentences : "
   ]
  },
  {
   "cell_type": "code",
   "execution_count": 45,
   "metadata": {},
   "outputs": [
    {
     "data": {
      "text/plain": [
       "(355, 8)"
      ]
     },
     "execution_count": 45,
     "metadata": {},
     "output_type": "execute_result"
    }
   ],
   "source": [
    "RadPath_analysis[RadPath_analysis['Number of sentences'] ==2].shape"
   ]
  },
  {
   "cell_type": "code",
   "execution_count": 39,
   "metadata": {},
   "outputs": [
    {
     "data": {
      "text/plain": [
       "(587,)"
      ]
     },
     "execution_count": 39,
     "metadata": {},
     "output_type": "execute_result"
    }
   ],
   "source": [
    "RadPath_analysis[RadPath_analysis['Number of sentences'] ==10]['note_text'].unique().shape"
   ]
  },
  {
   "cell_type": "code",
   "execution_count": 38,
   "metadata": {},
   "outputs": [
    {
     "name": "stdout",
     "output_type": "stream",
     "text": [
      "prior to biopsy prior to biopsy\n"
     ]
    }
   ],
   "source": [
    "data = RadPath_analysis.loc[142]['note_text']\n",
    "print(data)"
   ]
  },
  {
   "cell_type": "code",
   "execution_count": 181,
   "metadata": {},
   "outputs": [
    {
     "data": {
      "image/png": "[encoded data removed]",
      "text/plain": [
       "<Figure size 432x288 with 1 Axes>"
      ]
     },
     "metadata": {
      "needs_background": "light"
     },
     "output_type": "display_data"
    }
   ],
   "source": [
    "# RadSenLen = np.array(RadSenLen)\n",
    "plt.hist(RadSenLen, 50, density= True)  # arguments are passed to np.histogram\n",
    "plt.show()\n",
    "#plt.title(\"Histogram with 'auto' bins\")"
   ]
  },
  {
   "cell_type": "markdown",
   "metadata": {},
   "source": [
    "### word2vec model from the words in the sentences\n",
    "### word vectorization with TFIDF"
   ]
  },
  {
   "cell_type": "code",
   "execution_count": 27,
   "metadata": {},
   "outputs": [],
   "source": [
    "from sklearn.feature_extraction.text import CountVectorizer\n",
    "from sklearn.feature_extraction.text import TfidfVectorizer\n",
    "vectorizer_TFIDF = TfidfVectorizer()\n",
    "vectorizer_CV = CountVectorizer()\n"
   ]
  },
  {
   "cell_type": "code",
   "execution_count": 28,
   "metadata": {},
   "outputs": [],
   "source": [
    "text_cohort =[]\n",
    "for i in range(len(RadPath_analysis_singleSent.index)):\n",
    "    text = RadPath_analysis_singleSent.loc[i,'note_text']\n",
    "    text_cohort.append(text)\n",
    "#     word_input = word_tokenize(text)\n",
    "    \n",
    "    \n",
    "    \n",
    "#     text_CV= vectorizer_CV.fit_transform(word_input)\n",
    "#     text_TFIDF = vectorizer_TFIDF.fit_transform(word_input)"
   ]
  },
  {
   "cell_type": "markdown",
   "metadata": {},
   "source": [
    "### Use TFIDF method to find out the words that has propotional representation in he corpus"
   ]
  },
  {
   "cell_type": "code",
   "execution_count": 29,
   "metadata": {},
   "outputs": [],
   "source": [
    "text_CV= vectorizer_CV.fit_transform(text_cohort)\n",
    "text_TFIDF = vectorizer_TFIDF.fit_transform(text_cohort)"
   ]
  },
  {
   "cell_type": "code",
   "execution_count": 30,
   "metadata": {},
   "outputs": [
    {
     "data": {
      "text/plain": [
       "'test'"
      ]
     },
     "execution_count": 30,
     "metadata": {},
     "output_type": "execute_result"
    }
   ],
   "source": [
    "vectorizer_CV.get_feature_names()[np.sum(text_CV.toarray(),axis =0).argmax()]\n",
    "vectorizer_TFIDF.get_feature_names()[np.sum(text_TFIDF.toarray(),axis =0).argmax()]"
   ]
  },
  {
   "cell_type": "code",
   "execution_count": 52,
   "metadata": {},
   "outputs": [
    {
     "data": {
      "text/plain": [
       "array([9.15397012, 0.88261424, 1.24303263, ..., 0.41588321, 0.49862795,\n",
       "       1.67012404])"
      ]
     },
     "execution_count": 52,
     "metadata": {},
     "output_type": "execute_result"
    }
   ],
   "source": [
    "np.sum(text_TFIDF.toarray(),axis =0)\n",
    "#np.sum(text_CV.toarray(),axis =0)\n",
    "# vectorizer_TFIDF.get_feature_names()[np.sum(text_TFIDF.toarray(),axis =0).argmin()]"
   ]
  },
  {
   "cell_type": "markdown",
   "metadata": {},
   "source": [
    "### Implement word2vec on th text cohort from the single sentence sets"
   ]
  },
  {
   "cell_type": "code",
   "execution_count": 44,
   "metadata": {},
   "outputs": [],
   "source": [
    "text_cohort\n",
    "all_words = [nltk.word_tokenize(sent) for sent in text_cohort]\n",
    "# Removing Stop Words\n",
    "from nltk.corpus import stopwords\n",
    "for i in range(len(all_words)):\n",
    "    all_words[i] = [w for w in all_words[i] if w not in stopwords.words('english')]"
   ]
  },
  {
   "cell_type": "code",
   "execution_count": 40,
   "metadata": {},
   "outputs": [],
   "source": [
    "from gensim.models import Word2Vec\n",
    "\n",
    "word2vec_model = Word2Vec(all_words, min_count=5)"
   ]
  },
  {
   "cell_type": "code",
   "execution_count": null,
   "metadata": {},
   "outputs": [],
   "source": [
    "vocabulary = word2vec_model.wv.vocab\n",
    "print(vocabulary)"
   ]
  },
  {
   "cell_type": "code",
   "execution_count": null,
   "metadata": {},
   "outputs": [],
   "source": [
    "v1 = word2vec_model.wv['test']\n",
    "v1"
   ]
  },
  {
   "cell_type": "code",
   "execution_count": 42,
   "metadata": {},
   "outputs": [
    {
     "name": "stderr",
     "output_type": "stream",
     "text": [
      "/home/dbasu/.local/share/virtualenvs/ucd-ri-csnlp-AG0bO8yr/lib/python3.6/site-packages/smart_open/smart_open_lib.py:398: UserWarning: This function is deprecated, use smart_open.open instead. See the migration notes for details: https://github.com/RaRe-Technologies/smart_open/blob/master/README.rst#migrating-to-the-new-open-function\n",
      "  'See the migration notes for details: %s' % _MIGRATION_NOTES_URL\n"
     ]
    }
   ],
   "source": [
    "f_name = 'wor2vec_model.txt'\n",
    "word2vec_model.wv.save_word2vec_format(f_name, binary = False)"
   ]
  },
  {
   "cell_type": "markdown",
   "metadata": {},
   "source": [
    "### Implement doc2vec on the sentences"
   ]
  },
  {
   "cell_type": "code",
   "execution_count": null,
   "metadata": {},
   "outputs": [],
   "source": [
    "max_epochs = 100\n",
    "vec_size = 20\n",
    "alpha = 0.025\n",
    "\n",
    "model = Doc2Vec(size=vec_size,\n",
    "                alpha=alpha, \n",
    "                min_alpha=0.00025,\n",
    "                min_count=1,\n",
    "                dm =1)\n",
    "  \n",
    "model.build_vocab(tagged_data)\n",
    "\n",
    "for epoch in range(max_epochs):\n",
    "    print('iteration {0}'.format(epoch))\n",
    "    model.train(tagged_data,\n",
    "                total_examples=model.corpus_count,\n",
    "                epochs=model.iter)\n",
    "    # decrease the learning rate\n",
    "    model.alpha -= 0.0002\n",
    "    # fix the learning rate, no decay\n",
    "    model.min_alpha = model.alpha\n",
    "\n",
    "model.save(\"d2v.model\")\n",
    "print(\"Model Saved\")"
   ]
  },
  {
   "cell_type": "code",
   "execution_count": 59,
   "metadata": {},
   "outputs": [
    {
     "name": "stdout",
     "output_type": "stream",
     "text": [
      "V1_infer [-0.01174802  0.01892567  0.02331458 -0.0161646  -0.00370456 -0.00297765\n",
      "  0.01032512  0.01855865 -0.03251955 -0.01637637  0.00291244  0.01132154\n",
      "  0.02957965  0.0085325   0.01903096  0.01427311  0.00820519 -0.01913295\n",
      "  0.01544167  0.00314951]\n"
     ]
    },
    {
     "name": "stderr",
     "output_type": "stream",
     "text": [
      "/home/dbasu/.local/share/virtualenvs/ucd-ri-csnlp-AG0bO8yr/lib/python3.6/site-packages/smart_open/smart_open_lib.py:398: UserWarning: This function is deprecated, use smart_open.open instead. See the migration notes for details: https://github.com/RaRe-Technologies/smart_open/blob/master/README.rst#migrating-to-the-new-open-function\n",
      "  'See the migration notes for details: %s' % _MIGRATION_NOTES_URL\n"
     ]
    }
   ],
   "source": [
    "model= Doc2Vec.load(\"d2v.model\")\n",
    "#to find the vector of a document which is not in training data\n",
    "test_data = word_tokenize(\"I love chatbots\".lower())\n",
    "v1 = model.infer_vector(test_data)\n",
    "print(\"V1_infer\", v1)\n"
   ]
  },
  {
   "cell_type": "code",
   "execution_count": null,
   "metadata": {},
   "outputs": [],
   "source": [
    "similar_doc = model.docvecs.most_similar('1')\n",
    "print(similar_doc)"
   ]
  },
  {
   "cell_type": "code",
   "execution_count": 47,
   "metadata": {},
   "outputs": [],
   "source": [
    "def read_corpus(fname, tokens_only=False):\n",
    "    with smart_open.smart_open(fname, encoding=\"iso-8859-1\") as f:\n",
    "        for i, line in enumerate(f):\n",
    "            if tokens_only:\n",
    "                yield gensim.utils.simple_preprocess(line)\n",
    "            else:\n",
    "                # For training data, add tags\n",
    "                yield gensim.models.doc2vec.TaggedDocument(gensim.utils.simple_preprocess(line), [i])"
   ]
  },
  {
   "cell_type": "code",
   "execution_count": 48,
   "metadata": {},
   "outputs": [],
   "source": [
    "train_corpus = list(read_corpus(lee_train_file))\n",
    "test_corpus = list(read_corpus(lee_test_file, tokens_only=True))"
   ]
  },
  {
   "cell_type": "code",
   "execution_count": null,
   "metadata": {},
   "outputs": [],
   "source": [
    "train_corpus[:2]"
   ]
  },
  {
   "cell_type": "code",
   "execution_count": 50,
   "metadata": {},
   "outputs": [],
   "source": [
    "model = gensim.models.doc2vec.Doc2Vec(vector_size=50, min_count=2, epochs=40)\n"
   ]
  },
  {
   "cell_type": "code",
   "execution_count": 51,
   "metadata": {},
   "outputs": [],
   "source": [
    "model.build_vocab(train_corpus)\n"
   ]
  },
  {
   "cell_type": "code",
   "execution_count": 52,
   "metadata": {},
   "outputs": [
    {
     "name": "stdout",
     "output_type": "stream",
     "text": [
      "CPU times: user 4.34 s, sys: 135 ms, total: 4.48 s\n",
      "Wall time: 1.91 s\n"
     ]
    }
   ],
   "source": [
    "%time model.train(train_corpus, total_examples=model.corpus_count, epochs=model.epochs)"
   ]
  },
  {
   "cell_type": "markdown",
   "metadata": {},
   "source": [
    "# Using SpaCy "
   ]
  },
  {
   "cell_type": "code",
   "execution_count": null,
   "metadata": {},
   "outputs": [],
   "source": [
    "RadSenLen =[]\n",
    "for i in RadPath_df.index:\n",
    "    text =RadPath_df.loc[i]['note_text']\n",
    "    doc = nlp(text)\n",
    "    RadSenLen.append(len(doc))"
   ]
  },
  {
   "cell_type": "code",
   "execution_count": null,
   "metadata": {},
   "outputs": [],
   "source": [
    "#Return the indices of rows with number of sentences equal to 1\n",
    "res_list = list(filter(lambda x: RadSenLen[x] == 3, range(len(RadSenLen)))) "
   ]
  },
  {
   "cell_type": "code",
   "execution_count": null,
   "metadata": {},
   "outputs": [],
   "source": [
    "import random\n",
    "i = random.choice(res_list)\n",
    "print(i)\n",
    "text =RadPath_df.iloc[i]['note_text']\n",
    "doc = nlp(text)\n",
    "for i, token in enumerate(doc):\n",
    "    print('-->Sentence %d: %s' % (i, token))"
   ]
  }
 ],
 "metadata": {
  "kernelspec": {
   "display_name": "Python 3",
   "language": "python",
   "name": "python3"
  },
  "language_info": {
   "codemirror_mode": {
    "name": "ipython",
    "version": 3
   },
   "file_extension": ".py",
   "mimetype": "text/x-python",
   "name": "python",
   "nbconvert_exporter": "python",
   "pygments_lexer": "ipython3",
   "version": "3.6.7"
  }
 },
 "nbformat": 4,
 "nbformat_minor": 2
}
